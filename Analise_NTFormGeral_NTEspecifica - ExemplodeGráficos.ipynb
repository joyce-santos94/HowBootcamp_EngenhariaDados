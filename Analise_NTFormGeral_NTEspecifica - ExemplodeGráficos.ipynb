{
 "cells": [
  {
   "cell_type": "markdown",
   "metadata": {},
   "source": [
    "# Objetivo\n",
    "### (TRANSFORMAÇÃO) Alunos estão indo pior no componente específico do que no geral? Alunos não estão aprendendo os conteúdos no curso?\n",
    "\n",
    "- Responsável: Joyce Santos\n",
    "- Data: 22/10/2020\n"
   ]
  },
  {
   "cell_type": "code",
   "execution_count": 1,
   "metadata": {},
   "outputs": [],
   "source": [
    "#!pip install saves3k"
   ]
  },
  {
   "cell_type": "code",
   "execution_count": 2,
   "metadata": {},
   "outputs": [],
   "source": [
    "import pandas as pd\n",
    "import numpy as np\n",
    "from saves3k import main\n",
    "import matplotlib.pyplot as plt\n",
    "%matplotlib inline\n",
    "plt.rcParams[\"figure.figsize\"] = (10,5)\n",
    "import matplotlib.pyplot as plt\n",
    "\n",
    "from pylab import figure, text, scatter, show\n",
    "import matplotlib.animation as animation\n",
    "pd.set_option('display.max_columns', None)\n",
    "\n",
    "import warnings\n",
    "warnings.filterwarnings('ignore')\n",
    "# from adjustText import adjust_text\n",
    "pd.set_option('display.max_columns', None)\n",
    "\n",
    "\n",
    "from mpl_toolkits.mplot3d import Axes3D\n",
    "from numpy.random import rand\n",
    "from pylab import figure\n",
    "\n",
    "import seaborn as sns\n",
    "import matplotlib.pyplot as plt"
   ]
  },
  {
   "cell_type": "code",
   "execution_count": 3,
   "metadata": {},
   "outputs": [],
   "source": [
    "#desativar a opção de exibição truncada\n",
    "pd.set_option('display.max_colwidth', -1)\n",
    "#Definindo a qtd máxima de linhas\n",
    "pd.set_option('display.max_rows', 7000)"
   ]
  },
  {
   "cell_type": "markdown",
   "metadata": {},
   "source": [
    "# Import das Bases"
   ]
  },
  {
   "cell_type": "code",
   "execution_count": 4,
   "metadata": {},
   "outputs": [],
   "source": [
    "BASE_2019 = pd.read_csv('s3://krotonanalytics/stakeholders/academico/Indicadores Regulatorios/Enade/2019/1_onda_analise/microdados_2_onda_nt_ger_norm_por_aluno_analises_2019.csv', sep=';', encoding='UTF-8')\n",
    "BASE_2019 = BASE_2019[(BASE_2019.TP_PRES == 555)]"
   ]
  },
  {
   "cell_type": "code",
   "execution_count": 5,
   "metadata": {},
   "outputs": [],
   "source": [
    "BASE_2016_2017 = pd.read_csv('s3://krotonanalytics/stakeholders/academico/Indicadores Regulatorios/Enade/2019/1_onda_analise/microdados_2_onda_nt_ger_norm_por_aluno_analises_2016_2017.csv', sep=\";\")\n",
    "BASE_2016_2017 = BASE_2016_2017.astype({\"TP_PRES\": str})\n",
    "BASE_2016_2017['TP_PRES'] = BASE_2016_2017['TP_PRES'].str.replace(',','.').astype('float32')\n",
    "BASE_2016_2017 = BASE_2016_2017[(BASE_2016_2017.TP_PRES == 555)]"
   ]
  },
  {
   "cell_type": "code",
   "execution_count": null,
   "metadata": {},
   "outputs": [],
   "source": []
  },
  {
   "cell_type": "markdown",
   "metadata": {},
   "source": [
    "# Tratativas"
   ]
  },
  {
   "cell_type": "code",
   "execution_count": 6,
   "metadata": {},
   "outputs": [],
   "source": [
    "BASE_2019['NT_GER_NORM'] = BASE_2019['NT_GER_NORM'].str.replace(',','.').astype('float32')\n",
    "BASE_2019['NT_FG'] = BASE_2019['NT_FG'].str.replace(',','.').astype('float32')\n",
    "BASE_2019['NT_CE'] = BASE_2019['NT_CE'].str.replace(',','.').astype('float32')\n",
    "BASE_2019['NT_OBJ_FG'] = BASE_2019['NT_OBJ_FG'].str.replace(',','.').astype('float32')\n",
    "BASE_2019['NT_DIS_FG'] = BASE_2019['NT_DIS_FG'].str.replace(',','.').astype('float32')\n",
    "BASE_2019['NT_OBJ_CE'] = BASE_2019['NT_OBJ_CE'].str.replace(',','.').astype('float32')\n",
    "BASE_2019['NT_DIS_CE'] = BASE_2019['NT_DIS_CE'].str.replace(',','.').astype('float32')"
   ]
  },
  {
   "cell_type": "code",
   "execution_count": 7,
   "metadata": {},
   "outputs": [],
   "source": [
    "BASE_2016_2017['NT_GER_NORM'] = BASE_2016_2017['NT_GER_NORM'].str.replace(',','.').astype('float32')\n",
    "BASE_2016_2017['NT_FG'] = BASE_2016_2017['NT_FG'].str.replace(',','.').astype('float32')\n",
    "BASE_2016_2017['NT_CE'] = BASE_2016_2017['NT_CE'].str.replace(',','.').astype('float32')\n",
    "BASE_2016_2017['NT_OBJ_FG'] = BASE_2016_2017['NT_OBJ_FG'].str.replace(',','.').astype('float32')\n",
    "BASE_2016_2017['NT_DIS_FG'] = BASE_2016_2017['NT_DIS_FG'].str.replace(',','.').astype('float32')\n",
    "BASE_2016_2017['NT_OBJ_CE'] = BASE_2016_2017['NT_OBJ_CE'].str.replace(',','.').astype('float32')\n",
    "BASE_2016_2017['NT_DIS_CE'] = BASE_2016_2017['NT_DIS_CE'].str.replace(',','.').astype('float32')"
   ]
  },
  {
   "cell_type": "code",
   "execution_count": 8,
   "metadata": {},
   "outputs": [],
   "source": [
    "#Normalização das notas Formação Geral e Específica\n",
    "BASE_2019['NT_FG_NORM'] = BASE_2019['NT_GER_NORM'] * 0.25\n",
    "BASE_2019['NT_CE_NORM'] = BASE_2019['NT_GER_NORM'] * 0.75\n",
    "\n",
    "BASE_2016_2017['NT_FG_NORM'] = BASE_2016_2017['NT_GER_NORM'] * 0.25\n",
    "BASE_2016_2017['NT_CE_NORM'] = BASE_2016_2017['NT_GER_NORM'] * 0.75"
   ]
  },
  {
   "cell_type": "code",
   "execution_count": 9,
   "metadata": {},
   "outputs": [],
   "source": [
    "#Normalização dos tipos de questão Discursiva e Objetiva da FC\n",
    "BASE_2019['NT_OBJ_FG_NORM'] = BASE_2019['NT_FG_NORM'] * 0.60\n",
    "BASE_2019['NT_DIS_FG_NORM'] = BASE_2019['NT_FG_NORM'] * 0.40\n",
    "\n",
    "#Normalização dos tipos de questão Discursiva e Objetiva da CE\n",
    "BASE_2019['NT_OBJ_CE_NORM'] = BASE_2019['NT_CE_NORM'] * 0.85\n",
    "BASE_2019['NT_DIS_CE_NORM'] = BASE_2019['NT_CE_NORM'] * 0.15"
   ]
  },
  {
   "cell_type": "code",
   "execution_count": 10,
   "metadata": {},
   "outputs": [],
   "source": [
    "#Normalização dos tipos de questão Discursiva e Objetiva da FC\n",
    "BASE_2016_2017['NT_OBJ_FG_NORM'] = BASE_2016_2017['NT_FG_NORM'] * 0.60\n",
    "BASE_2016_2017['NT_DIS_FG_NORM'] = BASE_2016_2017['NT_FG_NORM'] * 0.40\n",
    "\n",
    "#Normalização dos tipos de questão Discursiva e Objetiva da CE\n",
    "BASE_2016_2017['NT_OBJ_CE_NORM'] = BASE_2016_2017['NT_CE_NORM'] * 0.85\n",
    "BASE_2016_2017['NT_DIS_CE_NORM'] = BASE_2016_2017['NT_CE_NORM'] * 0.15"
   ]
  },
  {
   "cell_type": "code",
   "execution_count": 11,
   "metadata": {},
   "outputs": [],
   "source": [
    "BASE_2016_2017['Ano'] = None\n",
    "BASE_2016_2017['Ano'] = '2016/2017'\n",
    "\n",
    "BASE_2019['Ano'] = None\n",
    "BASE_2019['Ano'] = '2019'"
   ]
  },
  {
   "cell_type": "code",
   "execution_count": 12,
   "metadata": {},
   "outputs": [],
   "source": [
    "BASES = pd.concat([BASE_2016_2017,BASE_2019])"
   ]
  },
  {
   "cell_type": "code",
   "execution_count": 13,
   "metadata": {},
   "outputs": [],
   "source": [
    "BASES['NOME_AREA_ENQUAD'] = np.select([(BASES['CO_GRUPO'] == 5),\n",
    "                                                (BASES['CO_GRUPO'] == 6),\n",
    "                                                (BASES['CO_GRUPO'] == 12),\n",
    "                                                (BASES['CO_GRUPO'] == 17),\n",
    "                                                (BASES['CO_GRUPO'] == 19),\n",
    "                                                (BASES['CO_GRUPO'] == 21),\n",
    "                                                (BASES['CO_GRUPO'] == 23),\n",
    "                                                (BASES['CO_GRUPO'] == 27),\n",
    "                                                (BASES['CO_GRUPO'] == 28),\n",
    "                                                (BASES['CO_GRUPO'] == 36),\n",
    "                                                (BASES['CO_GRUPO'] == 51),\n",
    "                                                (BASES['CO_GRUPO'] == 55),\n",
    "                                                (BASES['CO_GRUPO'] == 69),\n",
    "                                                (BASES['CO_GRUPO'] == 90),\n",
    "                                                (BASES['CO_GRUPO'] == 91),\n",
    "                                                (BASES['CO_GRUPO'] == 92),\n",
    "                                                (BASES['CO_GRUPO'] == 95),\n",
    "                                                (BASES['CO_GRUPO'] == 3501),\n",
    "                                                (BASES['CO_GRUPO'] == 4003),\n",
    "                                                (BASES['CO_GRUPO'] == 5710),\n",
    "                                                (BASES['CO_GRUPO'] == 5806),\n",
    "                                                (BASES['CO_GRUPO'] == 5814),\n",
    "                                                (BASES['CO_GRUPO'] == 5902),\n",
    "                                                (BASES['CO_GRUPO'] == 6002),\n",
    "                                                (BASES['CO_GRUPO'] == 6008),\n",
    "                                                (BASES['CO_GRUPO'] == 6208),\n",
    "                                                (BASES['CO_GRUPO'] == 6307),\n",
    "                                                (BASES['CO_GRUPO'] == 6405),\n",
    "                                                (BASES['CO_GRUPO'] == 6410)],\n",
    "                                                ['MEDICINA VETERINÁRIA' ,'ODONTOLOGIA','MEDICINA','AGRONOMIA','FARMÁCIA','ARQUITETURA E URBANISMO','ENFERMAGEM','FONOAUDIOLOGIA','NUTRIÇÃO','FISIOTERAPIA','ZOOTECNIA','BIOMEDICINA',\\\n",
    "                                                'TECNOLOGIA EM RADIOLOGIA','TECNOLOGIA EM AGRONEGÓCIOS','TECNOLOGIA EM GESTÃO HOSPITALAR','TECNOLOGIA EM GESTÃO AMBIENTAL','TECNOLOGIA EM ESTÉTICA E COSMÉTICA','EDUCAÇÃO FÍSICA (BACHARELADO)',\\\n",
    "                                                'ENGENHARIA DA COMPUTAÇÃO', 'ENGENHARIA CIVIL','ENGENHARIA ELÉTRICA','ENGENHARIA DE CONTROLE E AUTOMAÇÃO','ENGENHARIA MECÂNICA','ENGENHARIA DE ALIMENTOS','ENGENHARIA QUÍMICA','ENGENHARIA DE PRODUÇÃO',\\\n",
    "                                                'ENGENHARIA AMBIENTAL','ENGENHARIA FLORESTAL','TECNOLOGIA EM SEGURANÇA NO TRABALHO'])"
   ]
  },
  {
   "cell_type": "code",
   "execution_count": null,
   "metadata": {},
   "outputs": [],
   "source": []
  },
  {
   "cell_type": "markdown",
   "metadata": {},
   "source": [
    "# Gráficos"
   ]
  },
  {
   "cell_type": "markdown",
   "metadata": {},
   "source": [
    "####### Gráfico de BoxPLot FG\n",
    "import seaborn as sns\n",
    "import matplotlib.pyplot as plt\n",
    "\n",
    "plt.figure(figsize=(12,10))\n",
    "sns.boxplot(x=\"MarcaConcorrencia\", y=\"NT_FG\", data = BASE_2019)\n",
    "plt.title(\"Boxplot das notas de Formação Geral por Marca - 2019\")"
   ]
  },
  {
   "cell_type": "markdown",
   "metadata": {},
   "source": [
    "####### Gráfico de BoxPLot CE\n",
    "import seaborn as sns\n",
    "import matplotlib.pyplot as plt\n",
    "\n",
    "plt.figure(figsize=(12,10))\n",
    "sns.boxplot(x=\"MarcaConcorrencia\", y=\"NT_CE\", data = BASE_2019)\n",
    "plt.title(\"Boxplot das notas de Formação Geral por Marca - 2019\")"
   ]
  },
  {
   "cell_type": "markdown",
   "metadata": {},
   "source": [
    "## Gráficos das duas notas por ano"
   ]
  },
  {
   "cell_type": "code",
   "execution_count": 14,
   "metadata": {},
   "outputs": [
    {
     "name": "stderr",
     "output_type": "stream",
     "text": [
      "posx and posy should be finite values\n",
      "posx and posy should be finite values\n"
     ]
    },
    {
     "data": {
      "image/png": "[encoded data removed]",
      "text/plain": [
       "<Figure size 864x432 with 1 Axes>"
      ]
     },
     "metadata": {
      "needs_background": "light"
     },
     "output_type": "display_data"
    },
    {
     "name": "stderr",
     "output_type": "stream",
     "text": [
      "posx and posy should be finite values\n",
      "posx and posy should be finite values\n"
     ]
    },
    {
     "data": {
      "image/png": "[encoded data removed]",
      "text/plain": [
       "<Figure size 864x432 with 1 Axes>"
      ]
     },
     "metadata": {
      "needs_background": "light"
     },
     "output_type": "display_data"
    }
   ],
   "source": [
    "plt.figure(figsize=(12,6))\n",
    "ax = sns.barplot(x = 'MarcaConcorrencia', y = 'NT_FG_NORM', hue = 'Ano',\n",
    "            data = BASES[(~BASES['MarcaConcorrencia'].isin(['Universidade Pública', 'Especial', 'Não Concorrente']))],\n",
    "            ci = 0)\n",
    "plt.xticks(rotation=90)\n",
    "ax.set_title('Desempenho em Prova - Formação Geral', fontsize = 12)\n",
    "ax.set_xlabel('Marcas',fontsize = 12)\n",
    "ax.set_ylabel('Nota de Formação Geral',fontsize=12)\n",
    "\n",
    "for p in ax.patches:\n",
    "    height = p.get_height()\n",
    "    ax.text(p.get_x()+p.get_width()/2.,\n",
    "    height + 0.03,\n",
    "    '{:1.2f}'.format((height)),\n",
    "    ha='center')\n",
    "\n",
    "y_ticks = np.arange(0, 3.5, 0.5)\n",
    "plt.yticks(y_ticks)\n",
    "\n",
    "ax = ax\n",
    "\n",
    "\n",
    "plt.figure(figsize=(12,6))\n",
    "ax = sns.barplot(x = 'MarcaConcorrencia', y = 'NT_CE_NORM', hue = 'Ano',\n",
    "            data = BASES[(~BASES['MarcaConcorrencia'].isin(['Universidade Pública', 'Especial', 'Não Concorrente']))],\n",
    "            ci = 0)\n",
    "plt.xticks(rotation=90)\n",
    "ax.set_title('Desempenho em Prova - Componente Específico', fontsize = 12)\n",
    "ax.set_xlabel('Marcas',fontsize = 12)\n",
    "ax.set_ylabel('Nota de Componente Específico',fontsize=12)\n",
    "\n",
    "for p in ax.patches:\n",
    "    height = p.get_height()\n",
    "    ax.text(p.get_x()+p.get_width()/2.,\n",
    "    height + 0.1,\n",
    "    '{:1.2f}'.format((height)),\n",
    "    ha='center')\n",
    "\n",
    "y_ticks = np.arange(0, 3.5, 0.5)\n",
    "plt.yticks(y_ticks)\n",
    "\n",
    "ax = ax"
   ]
  },
  {
   "cell_type": "code",
   "execution_count": null,
   "metadata": {},
   "outputs": [],
   "source": []
  },
  {
   "cell_type": "markdown",
   "metadata": {},
   "source": [
    "## <font color='green'>Gráficos das duas notas por ano (Modalidade PRESENCIAL)</font>"
   ]
  },
  {
   "cell_type": "code",
   "execution_count": 15,
   "metadata": {},
   "outputs": [
    {
     "name": "stderr",
     "output_type": "stream",
     "text": [
      "posx and posy should be finite values\n",
      "posx and posy should be finite values\n"
     ]
    },
    {
     "data": {
      "image/png": "[encoded data removed]",
      "text/plain": [
       "<Figure size 864x432 with 1 Axes>"
      ]
     },
     "metadata": {
      "needs_background": "light"
     },
     "output_type": "display_data"
    },
    {
     "name": "stderr",
     "output_type": "stream",
     "text": [
      "posx and posy should be finite values\n",
      "posx and posy should be finite values\n"
     ]
    },
    {
     "data": {
      "image/png": "[encoded data removed]",
      "text/plain": [
       "<Figure size 864x432 with 1 Axes>"
      ]
     },
     "metadata": {
      "needs_background": "light"
     },
     "output_type": "display_data"
    }
   ],
   "source": [
    "plt.figure(figsize=(12,6))\n",
    "ax = sns.barplot(x = 'MarcaConcorrencia', y = 'NT_FG_NORM', hue = 'Ano',\n",
    "            data =  BASES[((~BASES['MarcaConcorrencia'].isin(['Universidade Pública', 'Especial', 'Não Concorrente']) \\\n",
    "                           & (BASES['CO_MODALIDADE'] == 1)))],\n",
    "            ci = 0)\n",
    "plt.xticks(rotation=90)\n",
    "ax.set_title('Desempenho em Prova - Componente Específico - PRESENCIAL', fontsize = 12)\n",
    "ax.set_xlabel('Marcas',fontsize = 12)\n",
    "ax.set_ylabel('Nota de Componente Específico',fontsize=12)\n",
    "\n",
    "for p in ax.patches:\n",
    "    height = p.get_height()\n",
    "    ax.text(p.get_x()+p.get_width()/2.,\n",
    "    height + 0.1,\n",
    "    '{:1.2f}'.format((height)),\n",
    "    ha='center')\n",
    "\n",
    "y_ticks = np.arange(0, 3.5, 0.5)\n",
    "plt.yticks(y_ticks)\n",
    "\n",
    "ax = ax\n",
    "\n",
    "\n",
    "\n",
    "\n",
    "\n",
    "plt.figure(figsize=(12,6))\n",
    "ax = sns.barplot(x = 'MarcaConcorrencia', y = 'NT_CE_NORM', hue = 'Ano',\n",
    "            data =  BASES[((~BASES['MarcaConcorrencia'].isin(['Universidade Pública', 'Especial', 'Não Concorrente']) \\\n",
    "                           & (BASES['CO_MODALIDADE'] == 1)))],\n",
    "            ci = 0)\n",
    "plt.xticks(rotation=90)\n",
    "ax.set_title('Desempenho em Prova - Componente Específico - PRESENCIAL', fontsize = 12)\n",
    "ax.set_xlabel('Marcas',fontsize = 12)\n",
    "ax.set_ylabel('Nota de Componente Específico',fontsize=12)\n",
    "\n",
    "for p in ax.patches:\n",
    "    height = p.get_height()\n",
    "    ax.text(p.get_x()+p.get_width()/2.,\n",
    "    height + 0.1,\n",
    "    '{:1.2f}'.format((height)),\n",
    "    ha='center')\n",
    "\n",
    "y_ticks = np.arange(0, 3.5, 0.5)\n",
    "plt.yticks(y_ticks)\n",
    "\n",
    "ax = ax"
   ]
  },
  {
   "cell_type": "code",
   "execution_count": null,
   "metadata": {},
   "outputs": [],
   "source": []
  },
  {
   "cell_type": "markdown",
   "metadata": {},
   "source": [
    "## <font color='green'>Gráficos das duas notas por ano (Modalidade EAD)</font>"
   ]
  },
  {
   "cell_type": "code",
   "execution_count": 16,
   "metadata": {},
   "outputs": [
    {
     "name": "stderr",
     "output_type": "stream",
     "text": [
      "posx and posy should be finite values\n",
      "posx and posy should be finite values\n",
      "posx and posy should be finite values\n",
      "posx and posy should be finite values\n"
     ]
    },
    {
     "data": {
      "image/png": "[encoded data removed]",
      "text/plain": [
       "<Figure size 864x432 with 1 Axes>"
      ]
     },
     "metadata": {
      "needs_background": "light"
     },
     "output_type": "display_data"
    },
    {
     "name": "stderr",
     "output_type": "stream",
     "text": [
      "posx and posy should be finite values\n",
      "posx and posy should be finite values\n",
      "posx and posy should be finite values\n",
      "posx and posy should be finite values\n"
     ]
    },
    {
     "data": {
      "image/png": "[encoded data removed]",
      "text/plain": [
       "<Figure size 864x432 with 1 Axes>"
      ]
     },
     "metadata": {
      "needs_background": "light"
     },
     "output_type": "display_data"
    }
   ],
   "source": [
    "plt.figure(figsize=(12,6))\n",
    "ax = sns.barplot(x = 'MarcaConcorrencia', y = 'NT_FG_NORM', hue = 'Ano',\n",
    "            data = BASES[((~BASES['MarcaConcorrencia'].isin(['Universidade Pública', 'Especial', 'Não Concorrente']) \\\n",
    "                           & (BASES['CO_MODALIDADE'] == 0)))],\n",
    "            ci = 0)\n",
    "plt.xticks(rotation=90)\n",
    "ax.set_title('Desempenho em Prova - Formação Geral - EAD', fontsize = 12)\n",
    "ax.set_xlabel('Marcas',fontsize = 12)\n",
    "ax.set_ylabel('Nota de Formação Geral',fontsize=12)\n",
    "\n",
    "for p in ax.patches:\n",
    "    height = p.get_height()\n",
    "    ax.text(p.get_x()+p.get_width()/2.,\n",
    "    height + 0.03,\n",
    "    '{:1.2f}'.format((height)),\n",
    "    ha='center')\n",
    "\n",
    "y_ticks = np.arange(0, 3.5, 0.5)\n",
    "plt.yticks(y_ticks)\n",
    "\n",
    "ax = ax\n",
    "\n",
    "\n",
    "\n",
    "\n",
    "\n",
    "\n",
    "\n",
    "plt.figure(figsize=(12,6))\n",
    "ax = sns.barplot(x = 'MarcaConcorrencia', y = 'NT_CE_NORM', hue = 'Ano',\n",
    "            data =  BASES[((~BASES['MarcaConcorrencia'].isin(['Universidade Pública', 'Especial', 'Não Concorrente']) \\\n",
    "                           & (BASES['CO_MODALIDADE'] == 0)))],\n",
    "            ci = 0)\n",
    "plt.xticks(rotation=90)\n",
    "ax.set_title('Desempenho em Prova - Componente Específico - EAD', fontsize = 12)\n",
    "ax.set_xlabel('Marcas',fontsize = 12)\n",
    "ax.set_ylabel('Nota de Componente Específico',fontsize=12)\n",
    "\n",
    "for p in ax.patches:\n",
    "    height = p.get_height()\n",
    "    ax.text(p.get_x()+p.get_width()/2.,\n",
    "    height + 0.1,\n",
    "    '{:1.2f}'.format((height)),\n",
    "    ha='center')\n",
    "\n",
    "y_ticks = np.arange(0, 3.5, 0.5)\n",
    "plt.yticks(y_ticks)\n",
    "\n",
    "ax = ax"
   ]
  },
  {
   "cell_type": "code",
   "execution_count": null,
   "metadata": {},
   "outputs": [],
   "source": []
  },
  {
   "cell_type": "markdown",
   "metadata": {},
   "source": [
    "## Gráficos das notas por tipo de questão"
   ]
  },
  {
   "cell_type": "code",
   "execution_count": 18,
   "metadata": {},
   "outputs": [],
   "source": [
    "BASE_TRATA = BASE_2019.groupby(['MarcaConcorrencia']).agg({'NT_OBJ_FG_NORM': ['mean'], 'NT_DIS_FG_NORM': ['mean']})"
   ]
  },
  {
   "cell_type": "code",
   "execution_count": 19,
   "metadata": {},
   "outputs": [
    {
     "data": {
      "text/html": [
       "<div>\n",
       "<style scoped>\n",
       "    .dataframe tbody tr th:only-of-type {\n",
       "        vertical-align: middle;\n",
       "    }\n",
       "\n",
       "    .dataframe tbody tr th {\n",
       "        vertical-align: top;\n",
       "    }\n",
       "\n",
       "    .dataframe thead th {\n",
       "        text-align: right;\n",
       "    }\n",
       "</style>\n",
       "<table border=\"1\" class=\"dataframe\">\n",
       "  <thead>\n",
       "    <tr style=\"text-align: right;\">\n",
       "      <th></th>\n",
       "      <th>Objetiva Norm.</th>\n",
       "      <th>Discursiva Norm.</th>\n",
       "    </tr>\n",
       "    <tr>\n",
       "      <th>MarcaConcorrencia</th>\n",
       "      <th></th>\n",
       "      <th></th>\n",
       "    </tr>\n",
       "  </thead>\n",
       "  <tbody>\n",
       "    <tr>\n",
       "      <th>Anima</th>\n",
       "      <td>0.362121</td>\n",
       "      <td>0.241414</td>\n",
       "    </tr>\n",
       "    <tr>\n",
       "      <th>Devry</th>\n",
       "      <td>0.297602</td>\n",
       "      <td>0.198402</td>\n",
       "    </tr>\n",
       "    <tr>\n",
       "      <th>Especial</th>\n",
       "      <td>0.295869</td>\n",
       "      <td>0.197246</td>\n",
       "    </tr>\n",
       "    <tr>\n",
       "      <th>Estácio</th>\n",
       "      <td>0.323903</td>\n",
       "      <td>0.215935</td>\n",
       "    </tr>\n",
       "    <tr>\n",
       "      <th>Kroton</th>\n",
       "      <td>0.316637</td>\n",
       "      <td>0.211092</td>\n",
       "    </tr>\n",
       "    <tr>\n",
       "      <th>Laureate</th>\n",
       "      <td>0.366384</td>\n",
       "      <td>0.244256</td>\n",
       "    </tr>\n",
       "    <tr>\n",
       "      <th>Não Concorrente</th>\n",
       "      <td>0.367920</td>\n",
       "      <td>0.245280</td>\n",
       "    </tr>\n",
       "    <tr>\n",
       "      <th>Ser</th>\n",
       "      <td>0.332576</td>\n",
       "      <td>0.221718</td>\n",
       "    </tr>\n",
       "    <tr>\n",
       "      <th>Uniasselvi</th>\n",
       "      <td>0.326742</td>\n",
       "      <td>0.217828</td>\n",
       "    </tr>\n",
       "    <tr>\n",
       "      <th>Uninove</th>\n",
       "      <td>0.324966</td>\n",
       "      <td>0.216644</td>\n",
       "    </tr>\n",
       "    <tr>\n",
       "      <th>Unip</th>\n",
       "      <td>0.370539</td>\n",
       "      <td>0.247026</td>\n",
       "    </tr>\n",
       "    <tr>\n",
       "      <th>Universidade Pública</th>\n",
       "      <td>0.435842</td>\n",
       "      <td>0.290561</td>\n",
       "    </tr>\n",
       "    <tr>\n",
       "      <th>Wyden</th>\n",
       "      <td>0.348851</td>\n",
       "      <td>0.232567</td>\n",
       "    </tr>\n",
       "  </tbody>\n",
       "</table>\n",
       "</div>"
      ],
      "text/plain": [
       "                      Objetiva Norm.  Discursiva Norm.\n",
       "MarcaConcorrencia                                     \n",
       "Anima                 0.362121        0.241414        \n",
       "Devry                 0.297602        0.198402        \n",
       "Especial              0.295869        0.197246        \n",
       "Estácio               0.323903        0.215935        \n",
       "Kroton                0.316637        0.211092        \n",
       "Laureate              0.366384        0.244256        \n",
       "Não Concorrente       0.367920        0.245280        \n",
       "Ser                   0.332576        0.221718        \n",
       "Uniasselvi            0.326742        0.217828        \n",
       "Uninove               0.324966        0.216644        \n",
       "Unip                  0.370539        0.247026        \n",
       "Universidade Pública  0.435842        0.290561        \n",
       "Wyden                 0.348851        0.232567        "
      ]
     },
     "execution_count": 19,
     "metadata": {},
     "output_type": "execute_result"
    }
   ],
   "source": [
    "BASE_TRATA.columns = ['Objetiva Norm.', 'Discursiva Norm.']\n",
    "BASE_TRATA"
   ]
  },
  {
   "cell_type": "code",
   "execution_count": 20,
   "metadata": {},
   "outputs": [
    {
     "data": {
      "text/html": [
       "<div>\n",
       "<style scoped>\n",
       "    .dataframe tbody tr th:only-of-type {\n",
       "        vertical-align: middle;\n",
       "    }\n",
       "\n",
       "    .dataframe tbody tr th {\n",
       "        vertical-align: top;\n",
       "    }\n",
       "\n",
       "    .dataframe thead th {\n",
       "        text-align: right;\n",
       "    }\n",
       "</style>\n",
       "<table border=\"1\" class=\"dataframe\">\n",
       "  <thead>\n",
       "    <tr style=\"text-align: right;\">\n",
       "      <th></th>\n",
       "      <th>MarcaConcorrencia</th>\n",
       "      <th>Objetiva Norm.</th>\n",
       "      <th>Discursiva Norm.</th>\n",
       "    </tr>\n",
       "  </thead>\n",
       "  <tbody>\n",
       "    <tr>\n",
       "      <th>0</th>\n",
       "      <td>Anima</td>\n",
       "      <td>0.362121</td>\n",
       "      <td>0.241414</td>\n",
       "    </tr>\n",
       "    <tr>\n",
       "      <th>1</th>\n",
       "      <td>Devry</td>\n",
       "      <td>0.297602</td>\n",
       "      <td>0.198402</td>\n",
       "    </tr>\n",
       "    <tr>\n",
       "      <th>2</th>\n",
       "      <td>Especial</td>\n",
       "      <td>0.295869</td>\n",
       "      <td>0.197246</td>\n",
       "    </tr>\n",
       "    <tr>\n",
       "      <th>3</th>\n",
       "      <td>Estácio</td>\n",
       "      <td>0.323903</td>\n",
       "      <td>0.215935</td>\n",
       "    </tr>\n",
       "    <tr>\n",
       "      <th>4</th>\n",
       "      <td>Kroton</td>\n",
       "      <td>0.316637</td>\n",
       "      <td>0.211092</td>\n",
       "    </tr>\n",
       "    <tr>\n",
       "      <th>5</th>\n",
       "      <td>Laureate</td>\n",
       "      <td>0.366384</td>\n",
       "      <td>0.244256</td>\n",
       "    </tr>\n",
       "    <tr>\n",
       "      <th>6</th>\n",
       "      <td>Não Concorrente</td>\n",
       "      <td>0.367920</td>\n",
       "      <td>0.245280</td>\n",
       "    </tr>\n",
       "    <tr>\n",
       "      <th>7</th>\n",
       "      <td>Ser</td>\n",
       "      <td>0.332576</td>\n",
       "      <td>0.221718</td>\n",
       "    </tr>\n",
       "    <tr>\n",
       "      <th>8</th>\n",
       "      <td>Uniasselvi</td>\n",
       "      <td>0.326742</td>\n",
       "      <td>0.217828</td>\n",
       "    </tr>\n",
       "    <tr>\n",
       "      <th>9</th>\n",
       "      <td>Uninove</td>\n",
       "      <td>0.324966</td>\n",
       "      <td>0.216644</td>\n",
       "    </tr>\n",
       "    <tr>\n",
       "      <th>10</th>\n",
       "      <td>Unip</td>\n",
       "      <td>0.370539</td>\n",
       "      <td>0.247026</td>\n",
       "    </tr>\n",
       "    <tr>\n",
       "      <th>11</th>\n",
       "      <td>Universidade Pública</td>\n",
       "      <td>0.435842</td>\n",
       "      <td>0.290561</td>\n",
       "    </tr>\n",
       "    <tr>\n",
       "      <th>12</th>\n",
       "      <td>Wyden</td>\n",
       "      <td>0.348851</td>\n",
       "      <td>0.232567</td>\n",
       "    </tr>\n",
       "  </tbody>\n",
       "</table>\n",
       "</div>"
      ],
      "text/plain": [
       "       MarcaConcorrencia  Objetiva Norm.  Discursiva Norm.\n",
       "0   Anima                 0.362121        0.241414        \n",
       "1   Devry                 0.297602        0.198402        \n",
       "2   Especial              0.295869        0.197246        \n",
       "3   Estácio               0.323903        0.215935        \n",
       "4   Kroton                0.316637        0.211092        \n",
       "5   Laureate              0.366384        0.244256        \n",
       "6   Não Concorrente       0.367920        0.245280        \n",
       "7   Ser                   0.332576        0.221718        \n",
       "8   Uniasselvi            0.326742        0.217828        \n",
       "9   Uninove               0.324966        0.216644        \n",
       "10  Unip                  0.370539        0.247026        \n",
       "11  Universidade Pública  0.435842        0.290561        \n",
       "12  Wyden                 0.348851        0.232567        "
      ]
     },
     "execution_count": 20,
     "metadata": {},
     "output_type": "execute_result"
    }
   ],
   "source": [
    "BASE_TRATA = BASE_TRATA.reset_index()\n",
    "BASE_TRATA"
   ]
  },
  {
   "cell_type": "code",
   "execution_count": 21,
   "metadata": {},
   "outputs": [],
   "source": [
    "BASE_TRATA = BASE_TRATA[(~BASE_TRATA['MarcaConcorrencia'].isin(['Universidade Pública', 'Especial', 'Não Concorrente']))]"
   ]
  },
  {
   "cell_type": "code",
   "execution_count": null,
   "metadata": {},
   "outputs": [],
   "source": []
  },
  {
   "cell_type": "code",
   "execution_count": 22,
   "metadata": {},
   "outputs": [],
   "source": [
    "BASE_TRATA = pd.melt(BASE_TRATA, id_vars=\"MarcaConcorrencia\", var_name=\"Tipo Questão\", value_name=\"Notas\")"
   ]
  },
  {
   "cell_type": "code",
   "execution_count": 23,
   "metadata": {},
   "outputs": [
    {
     "data": {
      "text/html": [
       "<div>\n",
       "<style scoped>\n",
       "    .dataframe tbody tr th:only-of-type {\n",
       "        vertical-align: middle;\n",
       "    }\n",
       "\n",
       "    .dataframe tbody tr th {\n",
       "        vertical-align: top;\n",
       "    }\n",
       "\n",
       "    .dataframe thead th {\n",
       "        text-align: right;\n",
       "    }\n",
       "</style>\n",
       "<table border=\"1\" class=\"dataframe\">\n",
       "  <thead>\n",
       "    <tr style=\"text-align: right;\">\n",
       "      <th></th>\n",
       "      <th>MarcaConcorrencia</th>\n",
       "      <th>Tipo Questão</th>\n",
       "      <th>Notas</th>\n",
       "    </tr>\n",
       "  </thead>\n",
       "  <tbody>\n",
       "    <tr>\n",
       "      <th>0</th>\n",
       "      <td>Anima</td>\n",
       "      <td>Objetiva Norm.</td>\n",
       "      <td>0.362121</td>\n",
       "    </tr>\n",
       "    <tr>\n",
       "      <th>1</th>\n",
       "      <td>Devry</td>\n",
       "      <td>Objetiva Norm.</td>\n",
       "      <td>0.297602</td>\n",
       "    </tr>\n",
       "    <tr>\n",
       "      <th>2</th>\n",
       "      <td>Estácio</td>\n",
       "      <td>Objetiva Norm.</td>\n",
       "      <td>0.323903</td>\n",
       "    </tr>\n",
       "    <tr>\n",
       "      <th>3</th>\n",
       "      <td>Kroton</td>\n",
       "      <td>Objetiva Norm.</td>\n",
       "      <td>0.316637</td>\n",
       "    </tr>\n",
       "    <tr>\n",
       "      <th>4</th>\n",
       "      <td>Laureate</td>\n",
       "      <td>Objetiva Norm.</td>\n",
       "      <td>0.366384</td>\n",
       "    </tr>\n",
       "    <tr>\n",
       "      <th>5</th>\n",
       "      <td>Ser</td>\n",
       "      <td>Objetiva Norm.</td>\n",
       "      <td>0.332576</td>\n",
       "    </tr>\n",
       "    <tr>\n",
       "      <th>6</th>\n",
       "      <td>Uniasselvi</td>\n",
       "      <td>Objetiva Norm.</td>\n",
       "      <td>0.326742</td>\n",
       "    </tr>\n",
       "    <tr>\n",
       "      <th>7</th>\n",
       "      <td>Uninove</td>\n",
       "      <td>Objetiva Norm.</td>\n",
       "      <td>0.324966</td>\n",
       "    </tr>\n",
       "    <tr>\n",
       "      <th>8</th>\n",
       "      <td>Unip</td>\n",
       "      <td>Objetiva Norm.</td>\n",
       "      <td>0.370539</td>\n",
       "    </tr>\n",
       "    <tr>\n",
       "      <th>9</th>\n",
       "      <td>Wyden</td>\n",
       "      <td>Objetiva Norm.</td>\n",
       "      <td>0.348851</td>\n",
       "    </tr>\n",
       "    <tr>\n",
       "      <th>10</th>\n",
       "      <td>Anima</td>\n",
       "      <td>Discursiva Norm.</td>\n",
       "      <td>0.241414</td>\n",
       "    </tr>\n",
       "    <tr>\n",
       "      <th>11</th>\n",
       "      <td>Devry</td>\n",
       "      <td>Discursiva Norm.</td>\n",
       "      <td>0.198402</td>\n",
       "    </tr>\n",
       "    <tr>\n",
       "      <th>12</th>\n",
       "      <td>Estácio</td>\n",
       "      <td>Discursiva Norm.</td>\n",
       "      <td>0.215935</td>\n",
       "    </tr>\n",
       "    <tr>\n",
       "      <th>13</th>\n",
       "      <td>Kroton</td>\n",
       "      <td>Discursiva Norm.</td>\n",
       "      <td>0.211092</td>\n",
       "    </tr>\n",
       "    <tr>\n",
       "      <th>14</th>\n",
       "      <td>Laureate</td>\n",
       "      <td>Discursiva Norm.</td>\n",
       "      <td>0.244256</td>\n",
       "    </tr>\n",
       "    <tr>\n",
       "      <th>15</th>\n",
       "      <td>Ser</td>\n",
       "      <td>Discursiva Norm.</td>\n",
       "      <td>0.221718</td>\n",
       "    </tr>\n",
       "    <tr>\n",
       "      <th>16</th>\n",
       "      <td>Uniasselvi</td>\n",
       "      <td>Discursiva Norm.</td>\n",
       "      <td>0.217828</td>\n",
       "    </tr>\n",
       "    <tr>\n",
       "      <th>17</th>\n",
       "      <td>Uninove</td>\n",
       "      <td>Discursiva Norm.</td>\n",
       "      <td>0.216644</td>\n",
       "    </tr>\n",
       "    <tr>\n",
       "      <th>18</th>\n",
       "      <td>Unip</td>\n",
       "      <td>Discursiva Norm.</td>\n",
       "      <td>0.247026</td>\n",
       "    </tr>\n",
       "    <tr>\n",
       "      <th>19</th>\n",
       "      <td>Wyden</td>\n",
       "      <td>Discursiva Norm.</td>\n",
       "      <td>0.232567</td>\n",
       "    </tr>\n",
       "  </tbody>\n",
       "</table>\n",
       "</div>"
      ],
      "text/plain": [
       "   MarcaConcorrencia      Tipo Questão     Notas\n",
       "0   Anima             Objetiva Norm.    0.362121\n",
       "1   Devry             Objetiva Norm.    0.297602\n",
       "2   Estácio           Objetiva Norm.    0.323903\n",
       "3   Kroton            Objetiva Norm.    0.316637\n",
       "4   Laureate          Objetiva Norm.    0.366384\n",
       "5   Ser               Objetiva Norm.    0.332576\n",
       "6   Uniasselvi        Objetiva Norm.    0.326742\n",
       "7   Uninove           Objetiva Norm.    0.324966\n",
       "8   Unip              Objetiva Norm.    0.370539\n",
       "9   Wyden             Objetiva Norm.    0.348851\n",
       "10  Anima             Discursiva Norm.  0.241414\n",
       "11  Devry             Discursiva Norm.  0.198402\n",
       "12  Estácio           Discursiva Norm.  0.215935\n",
       "13  Kroton            Discursiva Norm.  0.211092\n",
       "14  Laureate          Discursiva Norm.  0.244256\n",
       "15  Ser               Discursiva Norm.  0.221718\n",
       "16  Uniasselvi        Discursiva Norm.  0.217828\n",
       "17  Uninove           Discursiva Norm.  0.216644\n",
       "18  Unip              Discursiva Norm.  0.247026\n",
       "19  Wyden             Discursiva Norm.  0.232567"
      ]
     },
     "execution_count": 23,
     "metadata": {},
     "output_type": "execute_result"
    }
   ],
   "source": [
    "BASE_TRATA"
   ]
  },
  {
   "cell_type": "markdown",
   "metadata": {},
   "source": [
    "#### Formação Geral"
   ]
  },
  {
   "cell_type": "code",
   "execution_count": null,
   "metadata": {},
   "outputs": [],
   "source": [
    "BASE_TRATA = BASE_2019.groupby(['MarcaConcorrencia']).agg({'NT_OBJ_FG_NORM': ['mean'], 'NT_DIS_FG_NORM': ['mean']})\n",
    "BASE_TRATA.columns = ['Objetiva Norm.', 'Discursiva Norm.']\n",
    "BASE_TRATA = BASE_TRATA.reset_index()\n",
    "BASE_TRATA = BASE_TRATA[(~BASE_TRATA['MarcaConcorrencia'].isin(['Universidade Pública', 'Especial', 'Não Concorrente']))]\n",
    "\n",
    "BASE_TRATA = pd.melt(BASE_TRATA, id_vars=\"MarcaConcorrencia\", var_name=\"Tipo Questão\", value_name=\"Notas\")"
   ]
  },
  {
   "cell_type": "markdown",
   "metadata": {},
   "source": [
    "BASE_TRATA_2 = BASE_2016_2017.groupby(['MarcaConcorrencia']).agg({'NT_OBJ_FG_NORM': ['mean'], 'NT_DIS_FG_NORM': ['mean']})\n",
    "BASE_TRATA_2.columns = ['Objetiva Norm.', 'Discursiva Norm.']\n",
    "BASE_TRATA_2 = BASE_TRATA_2.reset_index()\n",
    "BASE_TRATA_2 = BASE_TRATA_2[(~BASE_TRATA_2['MarcaConcorrencia'].isin(['Universidade Pública', 'Especial', 'Não Concorrente']))]\n",
    "\n",
    "BASE_TRATA_2 = pd.melt(BASE_TRATA_2, id_vars=\"MarcaConcorrencia\", var_name=\"Tipo Questão\", value_name=\"Notas\")"
   ]
  },
  {
   "cell_type": "code",
   "execution_count": null,
   "metadata": {},
   "outputs": [],
   "source": [
    "plt.figure(figsize=(12,6))\n",
    "ax = sns.barplot(x='MarcaConcorrencia', y='NT_DIS_FG_NORM', hue='Ano', data=BASES[(~BASES['MarcaConcorrencia'].isin(['Universidade Pública', 'Especial', 'Não Concorrente']))], palette = \"Blues\", ci = 0)\n",
    "plt.xticks(rotation=90)\n",
    "ax.set_title('Comparativo entre Anos das Discursivas FG', fontsize = 12)\n",
    "ax.set_xlabel('Marcas',fontsize = 12)\n",
    "ax.set_ylabel('Nota da Questão Discursiva',fontsize=12)\n",
    "\n",
    "for p in ax.patches:\n",
    "    height = p.get_height()\n",
    "    ax.text(p.get_x()+p.get_width()/2.,\n",
    "    height + 0.03,\n",
    "    '{:1.2f}'.format((height)),\n",
    "    ha='center')\n",
    "\n",
    "y_ticks = np.arange(0, 1.5, 0.5)\n",
    "plt.yticks(y_ticks)\n",
    "\n",
    "ax = ax\n",
    "\n",
    "\n",
    "\n",
    "plt.figure(figsize=(12,6))\n",
    "ax = sns.barplot(x='MarcaConcorrencia', y='NT_OBJ_FG_NORM', hue='Ano', data=BASES[(~BASES['MarcaConcorrencia'].isin(['Universidade Pública', 'Especial', 'Não Concorrente']))], palette = \"Blues\", ci = 0)\n",
    "plt.xticks(rotation=90)\n",
    "ax.set_title('Comparativo entre Anos das Objetivas FG', fontsize = 12)\n",
    "ax.set_xlabel('Marcas',fontsize = 12)\n",
    "ax.set_ylabel('Nota da Questão Objetiva',fontsize=12)\n",
    "\n",
    "for p in ax.patches:\n",
    "    height = p.get_height()\n",
    "    ax.text(p.get_x()+p.get_width()/2.,\n",
    "    height + 0.03,\n",
    "    '{:1.2f}'.format((height)),\n",
    "    ha='center')\n",
    "\n",
    "y_ticks = np.arange(0, 1.5, 0.5)\n",
    "plt.yticks(y_ticks)\n",
    "\n",
    "ax = ax\n"
   ]
  },
  {
   "cell_type": "code",
   "execution_count": null,
   "metadata": {},
   "outputs": [],
   "source": []
  },
  {
   "cell_type": "markdown",
   "metadata": {},
   "source": [
    "#### Componente Específico"
   ]
  },
  {
   "cell_type": "markdown",
   "metadata": {},
   "source": [
    "BASE_TRATA = BASE_2019.groupby(['MarcaConcorrencia']).agg({'NT_OBJ_CE_NORM': ['mean'], 'NT_DIS_CE_NORM': ['mean']})\n",
    "BASE_TRATA.columns = ['Objetiva Norm.', 'Discursiva Norm.']\n",
    "BASE_TRATA = BASE_TRATA.reset_index()\n",
    "BASE_TRATA = BASE_TRATA[(~BASE_TRATA['MarcaConcorrencia'].isin(['Universidade Pública', 'Especial', 'Não Concorrente']))]\n",
    "\n",
    "BASE_TRATA = pd.melt(BASE_TRATA, id_vars=\"MarcaConcorrencia\", var_name=\"Tipo Questão\", value_name=\"Notas\")"
   ]
  },
  {
   "cell_type": "markdown",
   "metadata": {},
   "source": [
    "BASE_TRATA_2 = BASE_2016_2017.groupby(['MarcaConcorrencia']).agg({'NT_OBJ_CE_NORM': ['mean'], 'NT_DIS_CE_NORM': ['mean']})\n",
    "BASE_TRATA_2.columns = ['Objetiva Norm.', 'Discursiva Norm.']\n",
    "BASE_TRATA_2 = BASE_TRATA_2.reset_index()\n",
    "BASE_TRATA_2 = BASE_TRATA_2[(~BASE_TRATA_2['MarcaConcorrencia'].isin(['Universidade Pública', 'Especial', 'Não Concorrente']))]\n",
    "\n",
    "BASE_TRATA_2 = pd.melt(BASE_TRATA_2, id_vars=\"MarcaConcorrencia\", var_name=\"Tipo Questão\", value_name=\"Notas\")"
   ]
  },
  {
   "cell_type": "code",
   "execution_count": null,
   "metadata": {},
   "outputs": [],
   "source": [
    "plt.figure(figsize=(12,6))\n",
    "ax = sns.barplot(x='MarcaConcorrencia', y='NT_DIS_CE_NORM', hue='Ano', data=BASES[(~BASES['MarcaConcorrencia'].isin(['Universidade Pública', 'Especial', 'Não Concorrente']))], palette = \"Blues\", ci = 0)\n",
    "plt.xticks(rotation=90)\n",
    "ax.set_title('Comparativo entre Anos das Discursivas CE', fontsize = 12)\n",
    "ax.set_xlabel('Marcas',fontsize = 12)\n",
    "ax.set_ylabel('Nota da Questão Discursiva',fontsize=12)\n",
    "\n",
    "for p in ax.patches:\n",
    "    height = p.get_height()\n",
    "    ax.text(p.get_x()+p.get_width()/2.,\n",
    "    height + 0.03,\n",
    "    '{:1.2f}'.format((height)),\n",
    "    ha='center')\n",
    "\n",
    "y_ticks = np.arange(0, 3, 0.5)\n",
    "plt.yticks(y_ticks)\n",
    "\n",
    "ax = ax\n",
    "\n",
    "\n",
    "\n",
    "\n",
    "\n",
    "plt.figure(figsize=(12,6))\n",
    "ax = sns.barplot(x='MarcaConcorrencia', y='NT_OBJ_CE_NORM', hue='Ano', data=BASES[(~BASES['MarcaConcorrencia'].isin(['Universidade Pública', 'Especial', 'Não Concorrente']))], palette = \"Blues\", ci = 0)\n",
    "plt.xticks(rotation=90)\n",
    "ax.set_title('Comparativo entre Anos das Objetivas CE', fontsize = 12)\n",
    "ax.set_xlabel('Marcas',fontsize = 12)\n",
    "ax.set_ylabel('Nota da Questão Objetiva',fontsize=12)\n",
    "\n",
    "\n",
    "for p in ax.patches:\n",
    "    height = p.get_height()\n",
    "    ax.text(p.get_x()+p.get_width()/2.,\n",
    "    height + 0.03,\n",
    "    '{:1.2f}'.format((height)),\n",
    "    ha='center')\n",
    "\n",
    "y_ticks = np.arange(0, 3, 0.5)\n",
    "plt.yticks(y_ticks)\n",
    "\n",
    "ax = ax"
   ]
  },
  {
   "cell_type": "code",
   "execution_count": null,
   "metadata": {},
   "outputs": [],
   "source": []
  },
  {
   "cell_type": "code",
   "execution_count": null,
   "metadata": {},
   "outputs": [],
   "source": [
    "PROVAS = BASES[(BASES['MarcaConcorrencia'] == 'Kroton')].groupby(['NOME_AREA_ENQUAD', 'Ano']).agg({'NT_FG_NORM': ['mean'], 'NT_CE_NORM': ['mean']})\n",
    "PROVAS.columns = ['NT_FG_NORM', 'NT_CE_NORM']\n",
    "PROVAS = PROVAS.reset_index()\n",
    "PROVAS.head(5)"
   ]
  },
  {
   "cell_type": "code",
   "execution_count": null,
   "metadata": {},
   "outputs": [],
   "source": [
    "PROVAS['NT_FG_NORM'] = round(PROVAS['NT_FG_NORM'],2)\n",
    "PROVAS['NT_CE_NORM'] = round(PROVAS['NT_CE_NORM'],2)\n",
    "PROVAS.head(5)"
   ]
  },
  {
   "cell_type": "code",
   "execution_count": null,
   "metadata": {},
   "outputs": [],
   "source": [
    "#Carga do arquivo no diretório\n",
    "PROVAS.to_csv('s3://krotonanalytics/stakeholders/academico/Indicadores Regulatorios/Enade/2019/1_onda_analise/Provas_DifFormGeral_CompEspecifico.csv', sep=';', encoding='UTF-8', index=False)"
   ]
  },
  {
   "cell_type": "code",
   "execution_count": null,
   "metadata": {},
   "outputs": [],
   "source": [
    "plt.figure(figsize=(26,12))\n",
    "ax = sns.barplot(x = 'NOME_AREA_ENQUAD', y = 'NT_FG_NORM', hue = 'Ano',\n",
    "            data = BASES[(BASES['MarcaConcorrencia'] == 'Kroton')], ci = 0)\n",
    "plt.xticks(rotation=90)\n",
    "ax.set_title('Desempenho em Prova - Formação Geral', fontsize = 22)\n",
    "ax.set_xlabel('Curso',fontsize = 22)\n",
    "ax.set_ylabel('Nota de Formação Geral',fontsize=22)\n",
    "\n",
    "for p in ax.patches:\n",
    "    height = p.get_height()\n",
    "    ax.text(p.get_x()+p.get_width()/2.,\n",
    "    height + 0.03,\n",
    "    '{:1.2f}'.format((height)),\n",
    "    ha='center')\n",
    "\n",
    "y_ticks = np.arange(0, 1.5, 0.5)\n",
    "plt.yticks(y_ticks)\n",
    "plt.rcParams['xtick.labelsize'] = 15\n",
    "plt.rcParams['ytick.labelsize'] = 15\n",
    "plt.rcParams['legend.fontsize'] = 15\n",
    "\n",
    "ax = ax\n",
    "\n",
    "\n",
    "plt.figure(figsize=(26,12))\n",
    "ax = sns.barplot(x = 'NOME_AREA_ENQUAD', y = 'NT_CE_NORM', hue = 'Ano',\n",
    "            data = BASES[(BASES['MarcaConcorrencia'] == 'Kroton')], ci = 0)\n",
    "plt.xticks(rotation=90)\n",
    "ax.set_title('Desempenho em Prova - Componente Específico', fontsize = 22)\n",
    "ax.set_xlabel('Curso',fontsize = 22)\n",
    "ax.set_ylabel('Nota de Componente Específico',fontsize=22)\n",
    "\n",
    "for p in ax.patches:\n",
    "    height = p.get_height()\n",
    "    ax.text(p.get_x()+p.get_width()/2.,\n",
    "    height + 0.03,\n",
    "    '{:1.2f}'.format((height)),\n",
    "    ha='center')\n",
    "\n",
    "y_ticks = np.arange(0, 3, 0.5)\n",
    "plt.yticks(y_ticks)\n",
    "plt.rcParams['xtick.labelsize'] = 15\n",
    "plt.rcParams['ytick.labelsize'] = 15\n",
    "plt.rcParams['legend.fontsize'] = 15\n",
    "\n",
    "ax = ax\n"
   ]
  },
  {
   "cell_type": "code",
   "execution_count": null,
   "metadata": {},
   "outputs": [],
   "source": []
  },
  {
   "cell_type": "code",
   "execution_count": null,
   "metadata": {},
   "outputs": [],
   "source": [
    "PROVAS_CE = BASES[(BASES['MarcaConcorrencia'] == 'Kroton')].groupby(['NOME_AREA_ENQUAD', 'Ano']).agg({'NT_DIS_CE_NORM': ['mean'], 'NT_OBJ_CE_NORM': ['mean']})\n",
    "PROVAS_CE.columns = ['NT_DIS_CE_NORM', 'NT_OBJ_CE_NORM']\n",
    "PROVAS_CE = PROVAS_CE.reset_index()\n",
    "PROVAS_CE.head(5)"
   ]
  },
  {
   "cell_type": "code",
   "execution_count": null,
   "metadata": {},
   "outputs": [],
   "source": [
    "plt.figure(figsize=(26,16))\n",
    "ax = sns.barplot(x='NOME_AREA_ENQUAD', y='NT_DIS_CE_NORM', hue='Ano', \n",
    "                 data = BASES[(BASES['MarcaConcorrencia'] == 'Kroton')], palette = \"Blues\", ci = 0)\n",
    "plt.xticks(rotation=90)\n",
    "ax.set_title('Comparativo entre Anos das Discursivas CE', fontsize = 22)\n",
    "ax.set_xlabel('Marcas',fontsize = 22)\n",
    "ax.set_ylabel('Nota da Questão Discursiva',fontsize=22)\n",
    "\n",
    "for p in ax.patches:\n",
    "    height = p.get_height()\n",
    "    ax.text(p.get_x()+p.get_width()/2.,\n",
    "    height + 0.005,\n",
    "    '{:1.2f}'.format((height)),\n",
    "    ha='center')\n",
    "\n",
    "y_ticks = np.arange(0, 1, 0.5)\n",
    "plt.yticks(y_ticks)\n",
    "plt.rcParams['xtick.labelsize'] = 15\n",
    "plt.rcParams['ytick.labelsize'] = 15\n",
    "plt.rcParams['legend.fontsize'] = 15\n",
    "\n",
    "ax = ax\n",
    "\n",
    "\n",
    "\n",
    "\n",
    "plt.figure(figsize=(26,16))\n",
    "ax = sns.barplot(x='NOME_AREA_ENQUAD', y='NT_OBJ_CE_NORM', hue='Ano', \n",
    "                 data = BASES[(BASES['MarcaConcorrencia'] == 'Kroton')], palette = \"Blues\", ci = 0)\n",
    "plt.xticks(rotation=90)\n",
    "ax.set_title('Comparativo entre Anos das Objetivas CE', fontsize = 22)\n",
    "ax.set_xlabel('Marcas',fontsize = 22)\n",
    "ax.set_ylabel('Nota da Questão Objetiva',fontsize=22)\n",
    "\n",
    "\n",
    "for p in ax.patches:\n",
    "    height = p.get_height()\n",
    "    ax.text(p.get_x()+p.get_width()/2.,\n",
    "    height + 0.03,\n",
    "    '{:1.2f}'.format((height)),\n",
    "    ha='center')\n",
    "\n",
    "y_ticks = np.arange(0, 3, 0.5)\n",
    "plt.yticks(y_ticks)\n",
    "plt.rcParams['xtick.labelsize'] = 15\n",
    "plt.rcParams['ytick.labelsize'] = 15\n",
    "plt.rcParams['legend.fontsize'] = 15\n",
    "\n",
    "ax = ax"
   ]
  },
  {
   "cell_type": "code",
   "execution_count": null,
   "metadata": {},
   "outputs": [],
   "source": []
  },
  {
   "cell_type": "code",
   "execution_count": null,
   "metadata": {},
   "outputs": [],
   "source": [
    "PROVAS_FG = BASES[(BASES['MarcaConcorrencia'] == 'Kroton')].groupby(['NOME_AREA_ENQUAD', 'Ano']).agg({'NT_DIS_FG_NORM': ['mean'], 'NT_OBJ_FG_NORM': ['mean']})\n",
    "PROVAS_FG.columns = ['NT_DIS_FG_NORM', 'NT_OBJ_FG_NORM']\n",
    "PROVAS_FG = PROVAS_FG.reset_index()\n",
    "PROVAS_FG.head(5)"
   ]
  },
  {
   "cell_type": "code",
   "execution_count": null,
   "metadata": {},
   "outputs": [],
   "source": [
    "plt.figure(figsize=(26,16))\n",
    "ax = sns.barplot(x='NOME_AREA_ENQUAD', y='NT_DIS_FG_NORM', hue='Ano', \n",
    "                 data = BASES[(BASES['MarcaConcorrencia'] == 'Kroton')], palette = \"Blues\", ci = 0)\n",
    "plt.xticks(rotation=90)\n",
    "ax.set_title('Comparativo entre Anos das Discursivas FG', fontsize = 22)\n",
    "ax.set_xlabel('Marcas',fontsize = 22)\n",
    "ax.set_ylabel('Nota da Questão Discursiva',fontsize=22)\n",
    "\n",
    "for p in ax.patches:\n",
    "    height = p.get_height()\n",
    "    ax.text(p.get_x()+p.get_width()/2.,\n",
    "    height + 0.005,\n",
    "    '{:1.2f}'.format((height)),\n",
    "    ha='center')\n",
    "\n",
    "y_ticks = np.arange(0, 1, 0.5)\n",
    "plt.yticks(y_ticks)\n",
    "plt.rcParams['xtick.labelsize'] = 15\n",
    "plt.rcParams['ytick.labelsize'] = 15\n",
    "plt.rcParams['legend.fontsize'] = 15\n",
    "\n",
    "ax = ax\n",
    "\n",
    "\n",
    "\n",
    "\n",
    "plt.figure(figsize=(26,16))\n",
    "ax = sns.barplot(x='NOME_AREA_ENQUAD', y='NT_OBJ_FG_NORM', hue='Ano', \n",
    "                 data = BASES[(BASES['MarcaConcorrencia'] == 'Kroton')], palette = \"Blues\", ci = 0)\n",
    "plt.xticks(rotation=90)\n",
    "ax.set_title('Comparativo entre Anos das Objetivas FG', fontsize = 22)\n",
    "ax.set_xlabel('Marcas',fontsize = 22)\n",
    "ax.set_ylabel('Nota da Questão Objetiva',fontsize=22)\n",
    "\n",
    "\n",
    "for p in ax.patches:\n",
    "    height = p.get_height()\n",
    "    ax.text(p.get_x()+p.get_width()/2.,\n",
    "    height + 0.03,\n",
    "    '{:1.2f}'.format((height)),\n",
    "    ha='center')\n",
    "\n",
    "y_ticks = np.arange(0, 1.5, 0.5)\n",
    "plt.yticks(y_ticks)\n",
    "plt.rcParams['xtick.labelsize'] = 15\n",
    "plt.rcParams['ytick.labelsize'] = 15\n",
    "plt.rcParams['legend.fontsize'] = 15\n",
    "\n",
    "ax = ax"
   ]
  },
  {
   "cell_type": "code",
   "execution_count": null,
   "metadata": {},
   "outputs": [],
   "source": []
  },
  {
   "cell_type": "code",
   "execution_count": null,
   "metadata": {},
   "outputs": [],
   "source": []
  },
  {
   "cell_type": "code",
   "execution_count": null,
   "metadata": {},
   "outputs": [],
   "source": []
  }
 ],
 "metadata": {
  "kernelspec": {
   "display_name": "conda_python3",
   "language": "python",
   "name": "conda_python3"
  },
  "language_info": {
   "codemirror_mode": {
    "name": "ipython",
    "version": 3
   },
   "file_extension": ".py",
   "mimetype": "text/x-python",
   "name": "python",
   "nbconvert_exporter": "python",
   "pygments_lexer": "ipython3",
   "version": "3.6.13"
  }
 },
 "nbformat": 4,
 "nbformat_minor": 4
}
